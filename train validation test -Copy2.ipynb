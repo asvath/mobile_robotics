{
 "cells": [
  {
   "cell_type": "markdown",
   "metadata": {},
   "source": [
    "We split our data into 70% training, 15% validation and 15% test"
   ]
  },
  {
   "cell_type": "code",
   "execution_count": 1,
   "metadata": {},
   "outputs": [],
   "source": [
    "import os.path\n",
    "from os import listdir\n",
    "import xml.etree.ElementTree as ET  \n",
    "camera_names =['CAM_FRONT', 'CAM_FRONT_RIGHT', 'CAM_FRONT_LEFT', 'CAM_BACK', 'CAM_BACK_RIGHT', 'CAM_BACK_LEFT']\n",
    "\n",
    "def list_of_files(camera):\n",
    "    current_dir =os.getcwd()\n",
    "    #current_dir =\"%s/annotation\" %pwd\n",
    "    \n",
    "    dirName =\"%s/annotation/%s_anno\" %(current_dir,camera)\n",
    "    files = os.listdir(dirName)\n",
    "    \n",
    "    return files, dirName, current_dir\n",
    "\n",
    "    \n",
    "    \n"
   ]
  },
  {
   "cell_type": "code",
   "execution_count": 2,
   "metadata": {},
   "outputs": [],
   "source": [
    "with open(\"file_list.txt\", \"w\") as file_list:\n",
    "\n",
    "    for camera in camera_names:\n",
    "    \n",
    "        files, dirName, current_dir = list_of_files(camera)\n",
    "        for f in files:\n",
    "            file_list.write('%s/%s' %(dirName,f))\n",
    "            file_list.write('\\n')\n",
    "            "
   ]
  },
  {
   "cell_type": "code",
   "execution_count": 3,
   "metadata": {},
   "outputs": [],
   "source": [
    "file = open(\"file_list.txt\", \"r\") \n",
    "total_files = []\n",
    "cam =[]\n",
    "directory=[]\n",
    "#file_number =[]\n",
    "#i = 0\n",
    "\n",
    "for line in file:\n",
    "    \n",
    "    \n",
    "    total_files.append(line.strip())\n",
    "    \n",
    "    #file_number.append(i)\n",
    "    #i = i + 1"
   ]
  },
  {
   "cell_type": "code",
   "execution_count": 4,
   "metadata": {},
   "outputs": [],
   "source": [
    "all_files = total_files"
   ]
  },
  {
   "cell_type": "code",
   "execution_count": 5,
   "metadata": {},
   "outputs": [
    {
     "data": {
      "text/plain": [
       "23772"
      ]
     },
     "execution_count": 5,
     "metadata": {},
     "output_type": "execute_result"
    }
   ],
   "source": [
    "len(all_files)"
   ]
  },
  {
   "cell_type": "code",
   "execution_count": null,
   "metadata": {},
   "outputs": [],
   "source": []
  },
  {
   "cell_type": "code",
   "execution_count": null,
   "metadata": {},
   "outputs": [],
   "source": [
    "#all_files = list(zip(total_files,directory,cam))"
   ]
  },
  {
   "cell_type": "code",
   "execution_count": 6,
   "metadata": {},
   "outputs": [],
   "source": [
    "import random\n",
    "random.seed(8)\n",
    "\n",
    "\n",
    "shuffled_list = random.sample(all_files, len(all_files))\n",
    "\n"
   ]
  },
  {
   "cell_type": "code",
   "execution_count": 7,
   "metadata": {},
   "outputs": [],
   "source": [
    "random.seed(8)\n",
    "shuffled_list_train = random.sample(shuffled_list,int(0.7*len(shuffled_list)))"
   ]
  },
  {
   "cell_type": "code",
   "execution_count": 8,
   "metadata": {},
   "outputs": [],
   "source": [
    "remaining_list = [x for x in shuffled_list if x not in shuffled_list_train ]"
   ]
  },
  {
   "cell_type": "code",
   "execution_count": 9,
   "metadata": {},
   "outputs": [],
   "source": [
    "random.seed(8)\n",
    "shuffled_list_val = random.sample(remaining_list,int(0.5*len(remaining_list)))"
   ]
  },
  {
   "cell_type": "code",
   "execution_count": 10,
   "metadata": {},
   "outputs": [],
   "source": [
    "shuffled_list_test = [x for x in remaining_list if x not in shuffled_list_val ]"
   ]
  },
  {
   "cell_type": "code",
   "execution_count": 11,
   "metadata": {},
   "outputs": [
    {
     "data": {
      "text/plain": [
       "15.000841325929665"
      ]
     },
     "execution_count": 11,
     "metadata": {},
     "output_type": "execute_result"
    }
   ],
   "source": [
    "(len(shuffled_list_val)/len(shuffled_list)) * 100"
   ]
  },
  {
   "cell_type": "code",
   "execution_count": null,
   "metadata": {},
   "outputs": [],
   "source": [
    "shuffled_list_val[0]"
   ]
  },
  {
   "cell_type": "code",
   "execution_count": null,
   "metadata": {},
   "outputs": [],
   "source": [
    "shuffled_list_val[0]"
   ]
  },
  {
   "cell_type": "code",
   "execution_count": 12,
   "metadata": {},
   "outputs": [],
   "source": [
    "import os.path\n",
    "item = ['train', 'test', 'val']\n",
    "todo = ['annotations', 'images']\n",
    "\n",
    "def create_directory(item, todo):\n",
    "    current_dir =os.getcwd()\n",
    "    #current_dir =\"%s/annotation\" %pwd\n",
    "    dirName =\"%s/nu_%s_%s/\" %(current_dir,item, todo)\n",
    "    if not os.path.exists(dirName):\n",
    "        os.makedirs(dirName)\n",
    "        print(\"Directory \" , dirName ,  \" Created \")\n",
    "    else:    \n",
    "        print(\"Directory \" , dirName ,  \" already exists\")"
   ]
  },
  {
   "cell_type": "code",
   "execution_count": 13,
   "metadata": {},
   "outputs": [
    {
     "name": "stdout",
     "output_type": "stream",
     "text": [
      "Directory  /Volumes/Luthor/nutonomy/nuscenes-devkit-master/python-sdk/nu_train_annotations/  Created \n",
      "Directory  /Volumes/Luthor/nutonomy/nuscenes-devkit-master/python-sdk/nu_train_images/  Created \n",
      "Directory  /Volumes/Luthor/nutonomy/nuscenes-devkit-master/python-sdk/nu_test_annotations/  Created \n",
      "Directory  /Volumes/Luthor/nutonomy/nuscenes-devkit-master/python-sdk/nu_test_images/  Created \n",
      "Directory  /Volumes/Luthor/nutonomy/nuscenes-devkit-master/python-sdk/nu_val_annotations/  Created \n",
      "Directory  /Volumes/Luthor/nutonomy/nuscenes-devkit-master/python-sdk/nu_val_images/  Created \n"
     ]
    }
   ],
   "source": [
    "for i in item:\n",
    "    for j in todo:\n",
    "        create_directory(i,j)"
   ]
  },
  {
   "cell_type": "code",
   "execution_count": 19,
   "metadata": {},
   "outputs": [],
   "source": [
    "import shutil\n",
    "current_dir =os.getcwd()\n",
    "dirName = 'nu_test_annotations'\n",
    "for files in shuffled_list_test:\n",
    "    #f = '%s/%s' %(files[1],files[0])\n",
    "    #print(files.strip())\n",
    "    \n",
    "    shutil.copy2(files.strip(),'%s/%s' %(current_dir,dirName))\n",
    "    "
   ]
  },
  {
   "cell_type": "code",
   "execution_count": 20,
   "metadata": {},
   "outputs": [],
   "source": [
    "import shutil\n",
    "current_dir =os.getcwd()\n",
    "dirName = 'nu_test_images'\n",
    "for files in shuffled_list_test:\n",
    "    f = files.split('/')\n",
    "    camera_name = f[-2].split('_anno')[0]\n",
    "    \n",
    "    directory = '%s/data/nuscenes/samples/%s' %(current_dir, camera_name)\n",
    "    \n",
    "    files_chopped = f[-1].split('xml')[0]\n",
    "    files_new = '%sjpg' %files_chopped\n",
    "    \n",
    "    source = '%s/%s' %(directory, files_new) \n",
    "    destination = '%s/%s' %(current_dir,dirName)\n",
    "    shutil.copy2(source, destination)"
   ]
  },
  {
   "cell_type": "code",
   "execution_count": null,
   "metadata": {},
   "outputs": [],
   "source": [
    "\n",
    "b = shuffled_list_train[0].split('/')\n",
    "print(b)"
   ]
  },
  {
   "cell_type": "code",
   "execution_count": null,
   "metadata": {},
   "outputs": [],
   "source": [
    "print(b[-1].split('xml')[0])"
   ]
  },
  {
   "cell_type": "code",
   "execution_count": null,
   "metadata": {},
   "outputs": [],
   "source": [
    "a"
   ]
  },
  {
   "cell_type": "code",
   "execution_count": null,
   "metadata": {},
   "outputs": [],
   "source": [
    "a = [1,2,3,4]"
   ]
  },
  {
   "cell_type": "code",
   "execution_count": null,
   "metadata": {},
   "outputs": [],
   "source": [
    "a.pop(0)"
   ]
  },
  {
   "cell_type": "code",
   "execution_count": null,
   "metadata": {},
   "outputs": [],
   "source": []
  }
 ],
 "metadata": {
  "kernelspec": {
   "display_name": "Python 3",
   "language": "python",
   "name": "python3"
  },
  "language_info": {
   "codemirror_mode": {
    "name": "ipython",
    "version": 3
   },
   "file_extension": ".py",
   "mimetype": "text/x-python",
   "name": "python",
   "nbconvert_exporter": "python",
   "pygments_lexer": "ipython3",
   "version": "3.7.2"
  }
 },
 "nbformat": 4,
 "nbformat_minor": 2
}
